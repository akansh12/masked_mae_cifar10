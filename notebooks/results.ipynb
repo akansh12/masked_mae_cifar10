{
 "cells": [
  {
   "cell_type": "code",
   "execution_count": 3,
   "metadata": {},
   "outputs": [
    {
     "name": "stdout",
     "output_type": "stream",
     "text": [
      "Available scalar tag: train/loss_step\n",
      "Available scalar tag: train/lr\n",
      "Available scalar tag: train/loss_epoch\n"
     ]
    }
   ],
   "source": [
    "from tensorboard.backend.event_processing.event_accumulator import EventAccumulator\n",
    "log_path = \"/home/akansh-i2sc/Desktop/Thesis/masked_mae_cifar10/logs/cifar10/mae-pretrain\"\n",
    "ea = EventAccumulator(log_path)\n",
    "ea.Reload()\n",
    "\n",
    "for tag in ea.Tags()['scalars']:\n",
    "    print(\"Available scalar tag:\", tag)\n"
   ]
  },
  {
   "cell_type": "code",
   "execution_count": 20,
   "metadata": {},
   "outputs": [],
   "source": [
    "events = ea.Images('val/reconstructions')"
   ]
  },
  {
   "cell_type": "code",
   "execution_count": 22,
   "metadata": {},
   "outputs": [],
   "source": [
    "from PIL import Image\n",
    "import io\n",
    "for idx, e in enumerate(events):\n",
    "    image = Image.open(io.BytesIO(e.encoded_image_string))\n",
    "    image.save(f\"reconstruction_{idx}.png\")  # Saves as PNG"
   ]
  }
 ],
 "metadata": {
  "kernelspec": {
   "display_name": "mmfl",
   "language": "python",
   "name": "python3"
  },
  "language_info": {
   "codemirror_mode": {
    "name": "ipython",
    "version": 3
   },
   "file_extension": ".py",
   "mimetype": "text/x-python",
   "name": "python",
   "nbconvert_exporter": "python",
   "pygments_lexer": "ipython3",
   "version": "3.11.10"
  }
 },
 "nbformat": 4,
 "nbformat_minor": 2
}
